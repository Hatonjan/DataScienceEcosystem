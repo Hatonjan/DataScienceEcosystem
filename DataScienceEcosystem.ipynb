{
 "cells": [
  {
   "cell_type": "markdown",
   "id": "f0d902c3-054a-411b-9c66-a2b353e10575",
   "metadata": {},
   "source": [
    "# Data Science Tools and Ecosystem"
   ]
  },
  {
   "cell_type": "markdown",
   "id": "04d068eb-43d8-4de2-83f4-02afc35a6e24",
   "metadata": {},
   "source": [
    "## In this Notebook, Data Science Tools and Ecosystems are summarized."
   ]
  },
  {
   "cell_type": "markdown",
   "id": "8f96a67c-6486-4b54-bc51-e8ff9fbdf9ed",
   "metadata": {},
   "source": [
    "## **Objectives:**\n",
    "### * List popular languages for Data Science.\n",
    "### * List popular libraries used for Data Science.\n",
    "### * List popular Data Science Tools.\n",
    "### * Listing a few examples of evaluating arithmetic expressions in Python\n",
    "### * Listing simple arithmetic expressions to multiply and then add integers\n",
    "### * Conversion from minutes to hours using division"
   ]
  },
  {
   "cell_type": "markdown",
   "id": "6281e151-b890-4283-b08e-db23c4039121",
   "metadata": {},
   "source": [
    "## Some of the popular languages that Data Scientists use are:\n",
    "### R \n",
    "### Python\n",
    "### SQL\n",
    "### Java"
   ]
  },
  {
   "cell_type": "markdown",
   "id": "3b97297c-0f18-42b7-841b-5abc29840e1b",
   "metadata": {},
   "source": [
    "## Some of the commonly used libraries used for Data Science include:\n",
    "### Pandas\n",
    "### Numpy\n",
    "### seaborn\n",
    "### TensorFlow"
   ]
  },
  {
   "cell_type": "markdown",
   "id": "b32935c4-a6c7-4a29-b91d-bcb45fe3e02d",
   "metadata": {},
   "source": [
    "| Data Science Tools |\n",
    "|:-------------------|\n",
    "| MySQL |\n",
    "| Rstudio |\n",
    "| Apache Spark |\n",
    "| Jupyter Notebooks |\n",
    "\n"
   ]
  },
  {
   "cell_type": "markdown",
   "id": "7a92b49e-6d94-45ed-8666-5dc65f50acdb",
   "metadata": {},
   "source": [
    "### Below are a few examples of evaluating arithmetic expressions in Python"
   ]
  },
  {
   "cell_type": "code",
   "execution_count": 10,
   "id": "80c8321c-6e1b-43f2-a79b-1c83e936a906",
   "metadata": {},
   "outputs": [
    {
     "data": {
      "text/plain": [
       "58"
      ]
     },
     "execution_count": 10,
     "metadata": {},
     "output_type": "execute_result"
    }
   ],
   "source": [
    "(20+32)+(15-9)\n"
   ]
  },
  {
   "cell_type": "code",
   "execution_count": 33,
   "id": "0086f3a9-8cd9-4466-ae54-f13b941c4b5b",
   "metadata": {},
   "outputs": [
    {
     "data": {
      "text/plain": [
       "394"
      ]
     },
     "execution_count": 33,
     "metadata": {},
     "output_type": "execute_result"
    }
   ],
   "source": [
    "(57-589)+(954-28)"
   ]
  },
  {
   "cell_type": "code",
   "execution_count": 36,
   "id": "5fcf97b4-df47-4501-a74c-9d32560af752",
   "metadata": {},
   "outputs": [
    {
     "data": {
      "text/plain": [
       "17"
      ]
     },
     "execution_count": 36,
     "metadata": {},
     "output_type": "execute_result"
    }
   ],
   "source": [
    "#This a simple arithmetic expression to multiply and then add integers\n",
    "(3*4)+5"
   ]
  },
  {
   "cell_type": "code",
   "execution_count": 47,
   "id": "65047f1a-1b15-430d-b9f9-129f9d3f0777",
   "metadata": {},
   "outputs": [
    {
     "data": {
      "text/plain": [
       "3.33"
      ]
     },
     "execution_count": 47,
     "metadata": {},
     "output_type": "execute_result"
    }
   ],
   "source": [
    "#This will convert 200 minutes to hours by diving by 60\n",
    "x = 200 \n",
    "y = 60\n",
    "z = x / y\n",
    "round (z, 2) "
   ]
  },
  {
   "cell_type": "markdown",
   "id": "43a998b1-140e-448b-8c67-3b664cfc3c73",
   "metadata": {},
   "source": [
    "## Author\n",
    "#### Jonathan Scott"
   ]
  },
  {
   "cell_type": "code",
   "execution_count": null,
   "id": "823f597c-93fa-4a46-84c0-4b3e98810124",
   "metadata": {},
   "outputs": [],
   "source": []
  }
 ],
 "metadata": {
  "kernelspec": {
   "display_name": "Python 3 (ipykernel)",
   "language": "python",
   "name": "python3"
  },
  "language_info": {
   "codemirror_mode": {
    "name": "ipython",
    "version": 3
   },
   "file_extension": ".py",
   "mimetype": "text/x-python",
   "name": "python",
   "nbconvert_exporter": "python",
   "pygments_lexer": "ipython3",
   "version": "3.12.4"
  }
 },
 "nbformat": 4,
 "nbformat_minor": 5
}

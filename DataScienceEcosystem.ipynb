{
 "cells": [
  {
   "cell_type": "markdown",
   "id": "f0d902c3-054a-411b-9c66-a2b353e10575",
   "metadata": {},
   "source": [
    "# Data Science Tools and Ecosystem"
   ]
  },
  {
   "cell_type": "markdown",
   "id": "04d068eb-43d8-4de2-83f4-02afc35a6e24",
   "metadata": {},
   "source": [
    "## In this Notebook, Data Science Tools and Ecosystems are summarized."
   ]
  },
  {
   "cell_type": "markdown",
   "id": "8f96a67c-6486-4b54-bc51-e8ff9fbdf9ed",
   "metadata": {},
   "source": [
    "## **Objectives:**\n",
    "### * List popular languages for Data Science.\n",
    "### * List popular libraries used for Data Science.\n",
    "### * List popular Data Science Tools.\n",
    "### * Listing a few examples of evaluating arithmetic expressions in Python\n",
    "### * Listing simple arithmetic expressions to multiply and then add integers\n",
    "### * Conversion from minutes to hours using division"
   ]
  },
  {
   "cell_type": "markdown",
   "id": "6281e151-b890-4283-b08e-db23c4039121",
   "metadata": {},
   "source": [
    "## Some of the popular languages that Data Scientists use are:\n",
    "### R \n",
    "### Python\n",
    "### SQL\n",
    "### Java"
   ]
  },
  {
   "cell_type": "markdown",
   "id": "3b97297c-0f18-42b7-841b-5abc29840e1b",
   "metadata": {},
   "source": [
    "## Some of the commonly used libraries used for Data Science include:\n",
    "### Pandas\n",
    "### Numpy\n",
    "### seaborn\n",
    "### TensorFlow"
   ]
  },
  {
   "cell_type": "markdown",
   "id": "b32935c4-a6c7-4a29-b91d-bcb45fe3e02d",
   "metadata": {},
   "source": [
    "## Data Science Tools\n",
    "### MySQL\n",
    "### Rstudio\n",
    "### Apache Spark\n",
    "### Jupyter Notebooks\n",
    "\n"
   ]
  },
  {
   "cell_type": "markdown",
   "id": "0c0bb7fa-e3cf-4706-bd94-57ac73055f73",
   "metadata": {},
   "source": [
    "### Below are a few examples of evaluating arithmetic expressions in Python\n"
   ]
  },
  {
   "cell_type": "code",
   "execution_count": 31,
   "id": "3f4b9871-34db-4180-9578-f8b1ad03228d",
   "metadata": {},
   "outputs": [
    {
     "data": {
      "text/plain": [
       "58"
      ]
     },
     "execution_count": 31,
     "metadata": {},
     "output_type": "execute_result"
    }
   ],
   "source": [
    "(20+32)+(15-9)\n"
   ]
  },
  {
   "cell_type": "code",
   "execution_count": 33,
   "id": "0086f3a9-8cd9-4466-ae54-f13b941c4b5b",
   "metadata": {},
   "outputs": [
    {
     "data": {
      "text/plain": [
       "394"
      ]
     },
     "execution_count": 33,
     "metadata": {},
     "output_type": "execute_result"
    }
   ],
   "source": [
    "(57-589)+(954-28)"
   ]
  },
  {
   "cell_type": "markdown",
   "id": "a4071f91-9b01-459d-9559-0f42e9a27212",
   "metadata": {},
   "source": [
    "### This a simple arithmetic expression to multiply and then add integers"
   ]
  },
  {
   "cell_type": "code",
   "execution_count": 36,
   "id": "5fcf97b4-df47-4501-a74c-9d32560af752",
   "metadata": {},
   "outputs": [
    {
     "data": {
      "text/plain": [
       "17"
      ]
     },
     "execution_count": 36,
     "metadata": {},
     "output_type": "execute_result"
    }
   ],
   "source": [
    "(3*4)+5"
   ]
  },
  {
   "cell_type": "markdown",
   "id": "dde421af-1222-4ea6-8c3e-748622330e3a",
   "metadata": {},
   "source": [
    "### This will convert 200 minutes to hours by diving by 60"
   ]
  },
  {
   "cell_type": "code",
   "execution_count": 47,
   "id": "65047f1a-1b15-430d-b9f9-129f9d3f0777",
   "metadata": {},
   "outputs": [
    {
     "data": {
      "text/plain": [
       "3.33"
      ]
     },
     "execution_count": 47,
     "metadata": {},
     "output_type": "execute_result"
    }
   ],
   "source": [
    "x = 200 \n",
    "y = 60\n",
    "z = x / y\n",
    "round (z, 2) "
   ]
  },
  {
   "cell_type": "markdown",
   "id": "43a998b1-140e-448b-8c67-3b664cfc3c73",
   "metadata": {},
   "source": [
    "## Author\n",
    "#### Jonathan Scott"
   ]
  },
  {
   "cell_type": "code",
   "execution_count": null,
   "id": "823f597c-93fa-4a46-84c0-4b3e98810124",
   "metadata": {},
   "outputs": [],
   "source": []
  }
 ],
 "metadata": {
  "kernelspec": {
   "display_name": "Python 3 (ipykernel)",
   "language": "python",
   "name": "python3"
  },
  "language_info": {
   "codemirror_mode": {
    "name": "ipython",
    "version": 3
   },
   "file_extension": ".py",
   "mimetype": "text/x-python",
   "name": "python",
   "nbconvert_exporter": "python",
   "pygments_lexer": "ipython3",
   "version": "3.12.4"
  }
 },
 "nbformat": 4,
 "nbformat_minor": 5
}
